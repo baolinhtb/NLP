{
 "cells": [
  {
   "cell_type": "code",
   "execution_count": 1,
   "metadata": {
    "collapsed": false
   },
   "outputs": [],
   "source": [
    "import sys\n",
    "import string\n",
    "import time\n",
    "import getopt\n",
    "import random\n",
    "import math\n",
    "import pathfinders"
   ]
  },
  {
   "cell_type": "code",
   "execution_count": 2,
   "metadata": {
    "collapsed": true
   },
   "outputs": [],
   "source": [
    "start = {}\n",
    "lm = {} # init an empty dictionary.\n",
    "seGram={}"
   ]
  },
  {
   "cell_type": "code",
   "execution_count": 4,
   "metadata": {
    "collapsed": false
   },
   "outputs": [],
   "source": [
    "lmfile = open('model26.lm', 'r')\n",
    "biGrams = False\n",
    "triGrams = False\n",
    "for line in lmfile:\n",
    "    line = string.rstrip(line)\n",
    "    if line[:5] == '\\\\end\\\\':\n",
    "        break\n",
    "    if line == \"\":\n",
    "        biGrams = False\n",
    "        triGrams = False\n",
    "        continue\n",
    "# Load 2-grams model into memory..\n",
    "    if biGrams == True:\n",
    "        fields = line.split()\n",
    "        if fields[1] == \"<s>\":\n",
    "            seStartKey = fields[1]\n",
    "            seStartValue = (fields[2],string.atof(fields[0]))\n",
    "            if seGram.has_key(seStartKey):seGram[seStartKey].append(seStartValue)\n",
    "            else: seGram[seStartKey]=[ seStartValue ]\n",
    "        else:  \n",
    "            fields = line.split()\n",
    "            sekey = fields[1]\n",
    "            sevalue = (fields[2],string.atof(fields[0]))\n",
    "            if seGram.has_key(sekey):seGram[sekey].append(sevalue)\n",
    "            else: seGram[sekey]=[ sevalue ]\n",
    "# Load 3-grams model into memory..\n",
    "    if triGrams == True:\n",
    "        fields = line.split()\n",
    "        if fields[1] == \"<s>\":\n",
    "            startkey = (fields[1], fields[2])\n",
    "            startvalue = (fields[3], string.atof(fields[0]))\n",
    "            if start.has_key(startkey): start[startkey].append(startvalue)\n",
    "            else: start[startkey] = [ startvalue ]\n",
    "        else:\n",
    "            key = (fields[1], fields[2])\n",
    "            value = (fields[3], string.atof(fields[0]))\n",
    "            if lm.has_key(key): lm[key].append(value)\n",
    "            else: lm[key] = [ value ]\n",
    "    if line[:9] == '\\\\2-grams:':\n",
    "        biGrams = True\n",
    "    elif line[:9] == '\\\\3-grams:':\n",
    "        triGrams = True\n",
    "lmfile.close()"
   ]
  },
  {
   "cell_type": "code",
   "execution_count": 5,
   "metadata": {
    "collapsed": false,
    "scrolled": false
   },
   "outputs": [
    {
     "name": "stdout",
     "output_type": "stream",
     "text": [
      "fawn\n",
      "[('</s>', -0.8005955), ('colored', -0.8005955)]\n",
      "wrought-iron\n",
      "[('bannister', -0.8005955), ('chair', -0.8005955)]\n",
      "a girl looking at Big Ben\n",
      "-2.083694 -0.375664 -4.135746 -0.238397 -0.945642\n",
      " \n",
      "a girl exchange a fork-full of cake\n",
      "-3.483783 -0.617495 -1.094617 -0.617495 -0.617495 -0.581282\n",
      " \n",
      "a girl chasing a ball\n",
      "-3.483783 -0.617495 -0.698970 -0.331415\n",
      " \n",
      "a girl covering her face\n",
      "-3.483783 -0.144286 -0.301030 -0.205612\n",
      " \n"
     ]
    },
    {
     "name": "stderr",
     "output_type": "stream",
     "text": [
      "Keys:  ('girl', 'looking')\n",
      "Keys:  ('looking', 'at')\n",
      "Keys:  ('at', 'Big')\n",
      "Keys:  ('Big', 'Ben')\n",
      "Keys:  ('girl', 'exchange')\n",
      "Keys:  ('exchange', 'a')\n",
      "Keys:  ('a', 'fork-full')\n",
      "Keys:  ('fork-full', 'of')\n",
      "Keys:  ('of', 'cake')\n",
      "Keys:  ('girl', 'chasing')\n",
      "Keys:  ('chasing', 'a')\n",
      "Keys:  ('a', 'ball')\n",
      "Keys:  ('girl', 'covering')\n",
      "Keys:  ('covering', 'her')\n",
      "Keys:  ('her', 'face')\n"
     ]
    }
   ],
   "source": [
    "nusents =4\n",
    "printprob = 1\n",
    "a = 4\n",
    "#start_opt_list = start.keys()\n",
    "start_opt_list = start.keys()\n",
    "keys_list = lm.keys()\n",
    "article_list = seGram.keys()\n",
    "nextWord = seGram.values()\n",
    "\n",
    "for i in range(2):\n",
    "    print article_list[i]\n",
    "    print nextWord[i]\n",
    "\n",
    "while nusents > 0:\n",
    "#Initialize internal state from hashable object.\n",
    "    random.seed()\n",
    "    \n",
    "    w1=\"a\"\n",
    "    w2 = \"girl\"\n",
    "    wi=\"wii\"\n",
    "    next_word_list = lm[(w1, w2)]\n",
    "    #word_list1=seGram[(w1,w2)]\n",
    "    #print word_list1\n",
    "    (w3, prob) = random.choice(next_word_list)\n",
    "    #print prob\n",
    "    gen_sent = [ w1, w2 ]\n",
    "    \n",
    "    gen_logprob = []\n",
    "    while 1:\n",
    "        gen_sent.append(w3)\n",
    "        #print gen_sent\n",
    "        gen_logprob.append(prob) # prob = p(w3 | w1, w2)\n",
    "        #print gen_logprob\n",
    "        if w3 == \"</s>\":\n",
    "            gen_sent.remove(w3)\n",
    "            break\n",
    "        prob_out = random.random()\n",
    "        accumulate = 0.0\n",
    "        key = (w2, w3)\n",
    "        w2 = w3\n",
    "        \n",
    "        if lm.has_key(key):\n",
    "            print >> sys.stderr, \"Keys: \", key\n",
    "        #print \"in loop___________\"    \n",
    "        for (lm_w, lm_logprob) in lm[key]:\n",
    "\n",
    "            if lm_logprob > -89:\n",
    "                lm_prob = math.exp(lm_logprob)\n",
    "            else:\n",
    "                lm_prob = 0.0\n",
    "            \n",
    "            w3 = lm_w\n",
    "            prob = lm_logprob\n",
    "            \n",
    "\n",
    "            if (prob_out < (lm_prob + accumulate)):\n",
    "                break\n",
    "            else:\n",
    "                accumulate += lm_prob\n",
    "        #print \"out loop----------\"\n",
    "        #print gen_sent\n",
    "    ls = \" \".join(gen_sent)\n",
    "    print ls\n",
    "    if (printprob):\n",
    "        print \" \".join([ \"%f\" % i for i in gen_logprob])\n",
    "        print ' '\n",
    "        \n",
    "    nusents -=1\n",
    "#    continue\n",
    "#print \"----\",gen_logprob"
   ]
  },
  {
   "cell_type": "code",
   "execution_count": null,
   "metadata": {
    "collapsed": false
   },
   "outputs": [],
   "source": []
  },
  {
   "cell_type": "code",
   "execution_count": null,
   "metadata": {
    "collapsed": true
   },
   "outputs": [],
   "source": []
  }
 ],
 "metadata": {
  "kernelspec": {
   "display_name": "Python 2",
   "language": "python",
   "name": "python2"
  },
  "language_info": {
   "codemirror_mode": {
    "name": "ipython",
    "version": 2
   },
   "file_extension": ".py",
   "mimetype": "text/x-python",
   "name": "python",
   "nbconvert_exporter": "python",
   "pygments_lexer": "ipython2",
   "version": "2.7.9"
  }
 },
 "nbformat": 4,
 "nbformat_minor": 0
}
